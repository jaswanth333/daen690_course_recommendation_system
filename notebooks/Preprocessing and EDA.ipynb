{
 "cells": [
  {
   "cell_type": "markdown",
   "metadata": {},
   "source": [
    "## Libraries"
   ]
  },
  {
   "cell_type": "code",
   "execution_count": 1,
   "metadata": {},
   "outputs": [
    {
     "data": {
      "text/html": [
       "<style>.container { width:80% !important; }</style>"
      ],
      "text/plain": [
       "<IPython.core.display.HTML object>"
      ]
     },
     "metadata": {},
     "output_type": "display_data"
    }
   ],
   "source": [
    "import pandas as pd\n",
    "import matplotlib.pyplot as plt\n",
    "import numpy as np\n",
    "import seaborn as sns\n",
    "from IPython.display import display, HTML\n",
    "display(HTML(\"<style>.container { width:80% !important; }</style>\"))"
   ]
  },
  {
   "cell_type": "markdown",
   "metadata": {},
   "source": [
    "## Reading and typecasting the data"
   ]
  },
  {
   "cell_type": "code",
   "execution_count": 2,
   "metadata": {},
   "outputs": [
    {
     "name": "stderr",
     "output_type": "stream",
     "text": [
      "C:\\Users\\EliteSniper\\AppData\\Local\\Temp\\ipykernel_4432\\338159174.py:7: UserWarning: pandas only supports SQLAlchemy connectable (engine/connection) or database string URI or sqlite3 DBAPI2 connection. Other DBAPI2 objects are not tested. Please consider using SQLAlchemy.\n",
      "  df = pd.read_sql(query,mydb)\n"
     ]
    },
    {
     "data": {
      "text/html": [
       "<div>\n",
       "<style scoped>\n",
       "    .dataframe tbody tr th:only-of-type {\n",
       "        vertical-align: middle;\n",
       "    }\n",
       "\n",
       "    .dataframe tbody tr th {\n",
       "        vertical-align: top;\n",
       "    }\n",
       "\n",
       "    .dataframe thead th {\n",
       "        text-align: right;\n",
       "    }\n",
       "</style>\n",
       "<table border=\"1\" class=\"dataframe\">\n",
       "  <thead>\n",
       "    <tr style=\"text-align: right;\">\n",
       "      <th></th>\n",
       "      <th>student_name</th>\n",
       "      <th>course_name</th>\n",
       "      <th>nationality</th>\n",
       "      <th>school</th>\n",
       "      <th>gender</th>\n",
       "      <th>age</th>\n",
       "      <th>modes_of_learning</th>\n",
       "      <th>session</th>\n",
       "      <th>field_of_interest</th>\n",
       "      <th>difficulty_level</th>\n",
       "      <th>course_recommended</th>\n",
       "      <th>course_rating</th>\n",
       "    </tr>\n",
       "  </thead>\n",
       "  <tbody>\n",
       "    <tr>\n",
       "      <th>0</th>\n",
       "      <td>student 1</td>\n",
       "      <td>Robotics Innovative Learning</td>\n",
       "      <td>UK</td>\n",
       "      <td>Suchitran</td>\n",
       "      <td>Female</td>\n",
       "      <td>10</td>\n",
       "      <td>Online</td>\n",
       "      <td>24</td>\n",
       "      <td>Art</td>\n",
       "      <td>Applied Tech</td>\n",
       "      <td>Robotics Innovative Learning</td>\n",
       "      <td>5</td>\n",
       "    </tr>\n",
       "    <tr>\n",
       "      <th>1</th>\n",
       "      <td>student 2</td>\n",
       "      <td>Robotics Innovative Learning</td>\n",
       "      <td>Poland</td>\n",
       "      <td>Indian School Bahrain</td>\n",
       "      <td>Male</td>\n",
       "      <td>10</td>\n",
       "      <td>Online</td>\n",
       "      <td>96</td>\n",
       "      <td>Mathematics</td>\n",
       "      <td>Beginner</td>\n",
       "      <td>Robotics Innovative Learning</td>\n",
       "      <td>5</td>\n",
       "    </tr>\n",
       "    <tr>\n",
       "      <th>2</th>\n",
       "      <td>student 3</td>\n",
       "      <td>Spring Camps</td>\n",
       "      <td>China</td>\n",
       "      <td>Indian School Muscat, Oman</td>\n",
       "      <td>Male</td>\n",
       "      <td>10</td>\n",
       "      <td>In-person</td>\n",
       "      <td>48</td>\n",
       "      <td>Music</td>\n",
       "      <td>Proficiency</td>\n",
       "      <td>Python</td>\n",
       "      <td>1</td>\n",
       "    </tr>\n",
       "    <tr>\n",
       "      <th>3</th>\n",
       "      <td>student 4</td>\n",
       "      <td>Python Programming</td>\n",
       "      <td>Palestine</td>\n",
       "      <td>International school of Choueifat</td>\n",
       "      <td>Female</td>\n",
       "      <td>10</td>\n",
       "      <td>Online</td>\n",
       "      <td>48</td>\n",
       "      <td>Music</td>\n",
       "      <td>Proficiency</td>\n",
       "      <td>Technology Innovative Learning</td>\n",
       "      <td>5</td>\n",
       "    </tr>\n",
       "    <tr>\n",
       "      <th>4</th>\n",
       "      <td>student 5</td>\n",
       "      <td>Python Coding</td>\n",
       "      <td>United States</td>\n",
       "      <td>AUH</td>\n",
       "      <td>Female</td>\n",
       "      <td>10</td>\n",
       "      <td>In-person</td>\n",
       "      <td>48</td>\n",
       "      <td>Technology</td>\n",
       "      <td>Applied Tech</td>\n",
       "      <td>Robotics Innovative Learning</td>\n",
       "      <td>4</td>\n",
       "    </tr>\n",
       "  </tbody>\n",
       "</table>\n",
       "</div>"
      ],
      "text/plain": [
       "  student_name                   course_name    nationality  \\\n",
       "0    student 1  Robotics Innovative Learning             UK   \n",
       "1    student 2  Robotics Innovative Learning         Poland   \n",
       "2    student 3                  Spring Camps          China   \n",
       "3    student 4            Python Programming      Palestine   \n",
       "4    student 5                 Python Coding  United States   \n",
       "\n",
       "                              school  gender age modes_of_learning  session  \\\n",
       "0                          Suchitran  Female  10            Online       24   \n",
       "1              Indian School Bahrain    Male  10            Online       96   \n",
       "2         Indian School Muscat, Oman    Male  10         In-person       48   \n",
       "3  International school of Choueifat  Female  10            Online       48   \n",
       "4                                AUH  Female  10         In-person       48   \n",
       "\n",
       "  field_of_interest difficulty_level              course_recommended  \\\n",
       "0               Art     Applied Tech    Robotics Innovative Learning   \n",
       "1       Mathematics         Beginner    Robotics Innovative Learning   \n",
       "2             Music      Proficiency                          Python   \n",
       "3             Music      Proficiency  Technology Innovative Learning   \n",
       "4        Technology     Applied Tech    Robotics Innovative Learning   \n",
       "\n",
       "   course_rating  \n",
       "0              5  \n",
       "1              5  \n",
       "2              1  \n",
       "3              5  \n",
       "4              4  "
      ]
     },
     "execution_count": 2,
     "metadata": {},
     "output_type": "execute_result"
    }
   ],
   "source": [
    "#df=pd.read_csv('student_course_data.csv',index_col=0)\n",
    "\n",
    "import mysql.connector as connection\n",
    "try:\n",
    "    mydb = connection.connect(host=\"localhost\", database = 'student_course_data',user=\"root\", passwd=\"J4swanth\",use_pure=True)\n",
    "    query = \"Select * from sc_data;\"\n",
    "    df = pd.read_sql(query,mydb)\n",
    "    mydb.close() #close the connection\n",
    "except Exception as e:\n",
    "    mydb.close()\n",
    "    print(str(e))\n",
    "df.columns = [c.replace(' ', '_') for c in df.columns]\n",
    "df.columns = df.columns.str.lower()\n",
    "df.head()"
   ]
  },
  {
   "cell_type": "markdown",
   "metadata": {},
   "source": [
    "## Renaming columns"
   ]
  },
  {
   "cell_type": "code",
   "execution_count": 3,
   "metadata": {},
   "outputs": [
    {
     "data": {
      "text/plain": [
       "(9806, 12)"
      ]
     },
     "execution_count": 3,
     "metadata": {},
     "output_type": "execute_result"
    }
   ],
   "source": [
    "df = df.rename(columns={'demographic_data': 'gender','course_selected': 'course_name'})\n",
    "df.shape"
   ]
  },
  {
   "cell_type": "markdown",
   "metadata": {},
   "source": [
    "## Checking for N/A values"
   ]
  },
  {
   "cell_type": "code",
   "execution_count": 4,
   "metadata": {},
   "outputs": [
    {
     "data": {
      "text/plain": [
       "student_name          0\n",
       "course_name           0\n",
       "nationality           0\n",
       "school                0\n",
       "gender                0\n",
       "age                   0\n",
       "modes_of_learning     0\n",
       "session               0\n",
       "field_of_interest     0\n",
       "difficulty_level      0\n",
       "course_recommended    0\n",
       "course_rating         0\n",
       "dtype: int64"
      ]
     },
     "execution_count": 4,
     "metadata": {},
     "output_type": "execute_result"
    }
   ],
   "source": [
    "df.isna().sum()"
   ]
  },
  {
   "cell_type": "markdown",
   "metadata": {},
   "source": [
    "## Data Formatting"
   ]
  },
  {
   "cell_type": "code",
   "execution_count": 5,
   "metadata": {},
   "outputs": [
    {
     "name": "stdout",
     "output_type": "stream",
     "text": [
      "student_name\n",
      "['student 1' 'student 2' 'student 3' ... 'student 9804' 'student 9805'\n",
      " 'student 9806']\n",
      "\n",
      "\n",
      "course_name\n",
      "['Robotics Innovative Learning' 'Spring Camps' 'Python Programming'\n",
      " 'Python Coding' 'Artificial Intelligence'\n",
      " 'Technology Innovative Learning' 'Gulf News - Game and App Development'\n",
      " 'Graphic Designing & Animation' 'Public Speaking & Entrepreneurship'\n",
      " 'Gulf News - Metaverse' 'World Robot Olympiad (WRO)' 'Drone Technology'\n",
      " 'Gulf News - Robotics Innovative Learning'\n",
      " 'Gulf News - Artificial Intelligence'\n",
      " 'Artificial Intelligence for Non Programmers' 'Mid Term Program'\n",
      " 'LEGO Robotics' 'Space STEM' 'VEX Robotics'\n",
      " 'FIRST LEGO LEAGUE (FLL - 2022/23)' 'Young App Developer'\n",
      " 'Scratch Coding' 'Gulf News - Data Analysis with Python'\n",
      " 'Game Development with Unity' '3D Designing & Modelling' 'Metaverse'\n",
      " 'Graphic Designing' 'Young Coder' 'Young Game Developer'\n",
      " 'Technology Onsite' 'STEM Jr' 'School' 'Data Science' 'Winter Camp 2022'\n",
      " 'VEX Robotics Competition (VRC - 2023/24)' 'Summer Camp 2022'\n",
      " 'Coding For Kids' 'Artificial Intelligence & Machine Learning'\n",
      " 'VEX IQ Competition (VIQC - 2022 / 23)' 'ALIF Robotics Workshop'\n",
      " 'Internet of Things' 'Young Innovator' 'Tech Innovator'\n",
      " 'Virtual Robotics & Mechatronics'\n",
      " 'Artificial Intelligence Summer Program & Internship' 'Web Development'\n",
      " 'Train the Trainer' 'Young Designer Program' '3D Designing and Printing'\n",
      " 'French Language Course' 'Programming & Coding - Python/JAVA/HTML/C/C++'\n",
      " 'Artificial Intelligence and Machine Learning'\n",
      " 'Artificial Intelligence Winter Internship Program'\n",
      " 'FIRST Lego League - Senior' 'Young Product Designer'\n",
      " 'Game Combat Championship (GCC)' 'Winter Camp 2021' 'Arduino'\n",
      " 'Young Web Developer' 'JAVA' 'Spring Camp' 'Electronics for Kids'\n",
      " 'World Robot Olympiad Webinar' 'Public Speaking'\n",
      " 'CIS, Dubai - Tech Innovator Year (7 -10)' 'Speech and Drama'\n",
      " 'Game Development - Block-Based' 'Bootcamp - 3D Designing & Modelling'\n",
      " 'Young Data Scientist' 'Robotics/Virtual Robotics/Robotics Programming'\n",
      " 'Microsoft Arcade' 'Summer Camps' 'Young Honcho'\n",
      " 'Augmented & Virtual Reality' 'Half Term Camp 2022-23'\n",
      " 'Game Development - Microsoft Arcade' 'App Development'\n",
      " 'App Design and Development' 'Technology Boot Camp'\n",
      " 'Public Speaking, Design Thinking and Junior Entrepreneur Program for Students'\n",
      " 'STEM Sr' '3D Designing' 'Python' 'Young Entrepreneur'\n",
      " 'Artificial Intelligence of Things (AIoT)' 'Art & Craft for Juniors'\n",
      " 'Artificial Intelligence Program' 'Tech Summer Camp for Juniors' 'AI'\n",
      " 'Game Development' 'Drone Technology & Aerodynamics'\n",
      " 'CIS, Dubai - Stem Junior Year (3 -6)' 'JAVA Programming'\n",
      " 'Coding for kids' 'Game Dev with SCRATCH' 'Canon Junior Photography'\n",
      " 'Bootcamp - Artificial Intelligence' 'Graphics Designing'\n",
      " 'Technology Onsite - Sunmarke - Team 1' 'Young Designer'\n",
      " 'Technology Onsite - Regent - Team 1']\n",
      "\n",
      "\n",
      "nationality\n",
      "['UK' 'Poland' 'China' 'Palestine' 'United States' 'Armenia' 'Venezuela'\n",
      " 'Qatar' 'India' 'Canada' 'Cook Islands' 'Bahrain' 'Egypt' 'Uruguay'\n",
      " 'Iran (Islamic Republic of)' 'Korea' 'Oman' 'Malaysia'\n",
      " 'United Arab Emirates' 'Kuwait' 'Nigeria' 'Syria' 'New Zealand' 'USA'\n",
      " 'Ireland' 'Cameroon' 'Russia' 'UAE' 'Srilanka' 'Pakistan' 'IndiaSpain'\n",
      " 'Turkey' 'Bosnia and Herzegovina' 'Saudi Arabia' 'Singapore' 'Uganda'\n",
      " 'Cuba' 'Iraq' 'Switzerland' 'Afghanistan' 'Jordan' 'Ukraine'\n",
      " 'United Kingdom' 'KSA' 'Taiwan']\n",
      "\n",
      "\n",
      "school\n",
      "['Suchitran' 'Indian School Bahrain' 'Indian School Muscat, Oman'\n",
      " 'International school of Choueifat' 'AUH' 'Belvedere British School'\n",
      " 'Akg public school' 'Facebook' 'Summit International School'\n",
      " 'Saad ebn abi waqas' 'Middle East International School, Doha,Qatar'\n",
      " 'GEMS Heritage  Indian School' 'twak.to' 'Raffles World Academy'\n",
      " 'Al Diyafah High School' 'Learning Oasis International School' 'other'\n",
      " 'Rani Laxmi Bai Inter College' 'Repton SchoolGems Founders'\n",
      " 'Al Manar International school' 'Oaktree Primary School'\n",
      " 'Emirates International School (Meadows)' 'philippine School' 'DPS, Doha'\n",
      " 'Our Own High School' 'AlRaja School' 'St marys icse'\n",
      " 'GEMS Modern Academy' 'Manipal Academy of Higher Education'\n",
      " 'GEMS Winchester School' 'Sacred heart school'\n",
      " 'Regent International Private School'\n",
      " 'Cambridge International School Private'\n",
      " 'GEMS Wellington International School' 'Dubai English Speaking School'\n",
      " 'Al Arqm Private School' 'Gravi' 'GEMS International School- Al Khail'\n",
      " 'Wesgreen International School' 'GEMOOSH' 'MAHE Dubai'\n",
      " 'Amity School, Sharjah' 'Sharjah Private International School'\n",
      " 'Carmel School Kuwait' 'Ambassador International Academy'\n",
      " 'GD Goenka Public School, Agra, India' 'University of Wollongong'\n",
      " 'Victory Heights Primary School' 'Dubai English Speaking private college'\n",
      " 'Mayoor Private school  abudhabi' 'Jumeirah English Speaking School (Br)'\n",
      " 'Al Watania' 'Apple International School'\n",
      " 'Advanced Learning Schools Riyadh' 'BISES'\n",
      " 'Al Naseem International School'\n",
      " 'Al Basateen Private Nursery Hatta branch'\n",
      " 'Alhussan International School' 'DAA' 'GEMS Wellington Academy'\n",
      " 'Ambersrdm' 'Crescent English School' 'Millennium Sharjah'\n",
      " 'Camp, Amity ( Al Nadha)' 'Al Khaleej National School'\n",
      " 'Primus Private School LLC' 'Al Maaref Private School (LLC)'\n",
      " 'Cardiff international school / Qatar Finland I fee atop all school'\n",
      " 'Al majd international school' 'Merryland International School' 'DPS'\n",
      " 'GEMS Wellington Academy (Branch)' 'Ow qusm high school'\n",
      " 'Al Adab Iranian Private School for Boys' 'JSS PRIVATE SCHOOL LLC' 'LLfp'\n",
      " 'Khawla bent al azwar' 'Arcadia School' 'Al Ain English Speaking School'\n",
      " 'Dubai College' 'Dubai Scholars Private School' 'GEMS Westminster'\n",
      " 'ST laurence school Sallins' 'Apeejay school' 'GEMS' 'JSS PRIVATE SCHOOL'\n",
      " 'Gulf Asian English school' 'Dubai International Academy'\n",
      " 'Suncity school' 'Gems Wellington Academy Silicon Oasis'\n",
      " 'Al Ansar International School' 'GEMS Founders School'\n",
      " 'GEMS United School' 'Millennium School, Shj' 'Indian High School'\n",
      " 'GEMS Cambridge School, Sharjah' 'Private' 'Father Agnel School'\n",
      " 'Reach British School' 'AL mawakeb school' 'Vibgyor' 'Army Public School'\n",
      " 'Shaufa International School' 'Diyafah International School Abu Dhabi'\n",
      " 'GEMS Millennium Sharjah' 'Sharjah Indian school'\n",
      " 'Cambridge International School' 'direct call'\n",
      " 'The university of texas at arlington' 'Kings College Doha'\n",
      " 'Repton Dubai' 'Kido' 'gems our own english high school'\n",
      " 'Nadeen International' 'International Islamic School' 'OOB sharjah'\n",
      " 'Chinese school Dubai' 'Horizon International School - LLC'\n",
      " 'School Inb Al Haitham government school' 'Hartland International School'\n",
      " 'GEHS' 'Lusk Community College' 'IIS' 'Lotus Valley School Gurgaon'\n",
      " 'The Alpha School LLC' 'Arcadia High School' 'Bahrain Indian School'\n",
      " 'Jumeirah English Speaking School'\n",
      " 'NES International school, mulund west' 'Millennium School SHJ'\n",
      " 'British school of Bahrain' 'Not Specified' 'Nadeen International school'\n",
      " 'Cbsd' 'Mesty Croft Primary' 'Global Indian International School L.L.C'\n",
      " 'Al Eman Educational Est ( Al Eman private School )'\n",
      " 'Indian Embassy School, Riyadh' 'ISGi' 'The Kindergarten Starters'\n",
      " 'MSB Private School' 'GEMS Millenium School'\n",
      " 'Oberoi International School' 'Al Salam Private School'\n",
      " 'American International School' 'Al Ashbal Intl School'\n",
      " 'GEMS Our Own English High School' 'Ils' 'Habitat School'\n",
      " 'Raha international school' 'SJCK Sin Ming' 'GHIS' 'KES'\n",
      " 'GEMS New Millennium School L.L.C' 'MIS' 'IISD'\n",
      " 'Amity International School' 'D.t.e.a' 'Head Start Educational Academy'\n",
      " 'Gems FirstPoint School' 'St. Mary Catholic High School-Dubai'\n",
      " 'Al Adab Iranian Private School for Girls'\n",
      " 'The Indian International School (DSO Branch)'\n",
      " 'The School of the Good Shepherd' 'NIMS' 'Sunmarke School'\n",
      " 'Holi child auxilliam' 'Lycee Theodore Monot' 'DPS, Jeslselulic'\n",
      " 'Inb Al Haitham government school' 'Mercer County Technical Schools'\n",
      " 'IHS' 'The Indian High School' 'Sheffield Private School'\n",
      " 'New millennium school Bahrain' 'GIIS'\n",
      " 'GEMS Wellington Academy- Al Khail' 'Grammar School' 'DPS dubai'\n",
      " 'online lead' 'Jbcn' 'AgaKhan' 'The International School of Choueifat'\n",
      " 'Home' 'Dammam  Middle School' 'Al Basateen Private Nursery' 'Avah Unity'\n",
      " 'Rajagiri Public School' 'DPS, Sharjah' 'Holi child auxillianlm'\n",
      " 'The winchester school jabal ali' 'Colaiste Eoin'\n",
      " 'GEMS Founders School Mizhar' 'our own English high school'\n",
      " 'International Indian School, Jeddah' 'The Aquila School'\n",
      " 'Pristine Private School' 'Scholars International Academy'\n",
      " 'Al Rowad international' 'Lodha World School' 'Heritage'\n",
      " 'The Philippine School' 'GEMS Our Own Indian School'\n",
      " 'Indian learners own academy' 'Eaton International School'\n",
      " 'Delhi Private School' 'Scottish High International School'\n",
      " 'Swami Vivekanand International School' 'Rosary School'\n",
      " 'Children academy' 'Indian school al Ghubra'\n",
      " 'United International Private School' 'Cambridge Internatinal School'\n",
      " 'Li Englisto' 'almanar International school'\n",
      " 'British International School' 'International School of Creative Science'\n",
      " 'Mother Pried' 'JSSIS' 'The Winchester School' 'GEMS Metropole School-'\n",
      " 'The Millenium School' 'Kings school Dubai' \"Bright Rider's School\"\n",
      " 'St. Mary Catholic High School Dubai - Al Muhaisnah'\n",
      " 'Victoria INstitution KL' 'In Phillipines' 'QIS' 'DPS The gerdevn'\n",
      " 'English College' 'New Indian Model School'\n",
      " 'The Indian High School-Branch' 'Springdales School LLC' 'ASPAM'\n",
      " 'Edyscan Spl kid' 'English Language Private School' 'SJKT ALOR GAJAH'\n",
      " 'GEMS New Millennium School L.L.CAl Salam Community School'\n",
      " 'GEMS World Academy' 'Wellington International School' 'JSS'\n",
      " 'Brilliance school' 'Gems Founders' 'Bright Riders'\n",
      " 'Sekolah kebangsaan Sri Hartamas' 'The Sultan School' 'Sk bukit jalil'\n",
      " 'Star Private School' 'GEMS Jumeirah Primary School'\n",
      " 'International Indian School, Dammam' 'JSS International School LLC'\n",
      " 'Udgam' 'Ambassador School L.L.C' 'Amity School L.L.C'\n",
      " 'Indian International School' 'GEMS AlBarsha National School for Boys'\n",
      " 'Aws' 'Ruth Thompson Middle School' 'Al Mawakeb School - Al Garhoud'\n",
      " 'Abdul Rahman Kanoo International' 'Cambridge High School'\n",
      " 'Gems Cambridge International Abu Dhabi' 'Modern Skills School'\n",
      " 'Dubai National School' 'Don Bosco School' 'Ambenda Manpol'\n",
      " 'Secondary School' 'Homeschool Global Middle east'\n",
      " 'Al Noor International School' 'home schooling'\n",
      " 'Aspen Heights, Abu Dhabi' 'Bateen w' 'Frontline school' 'JPS Sharjah'\n",
      " 'Alshola private school' 'Global Indian Inter. School, DXB'\n",
      " 'Golf Indian High School'\n",
      " 'Raffles International School -Um Suqeim South BR'\n",
      " 'American School of Creative Sciences' 'Arab Unity School'\n",
      " 'Sheikh Zayed Private Academy' 'JHS' 'Gulf Indian High School'\n",
      " 'Indian school darsait' 'The Westminister School Dubai' 'Petals school'\n",
      " 'Al Amana private school' 'SMK Orkid Desa' 'Coursetakers'\n",
      " 'Princeton Public School' 'Pakistan Educational Academy'\n",
      " 'GEMS Royal Dubai School' 'Jubail International School' 'GEMS Jls'\n",
      " 'Chatrbhuj Narsi School' 'Gemi NM' 'The Arbor School' 'Mayoor Pvt School'\n",
      " 'Safa British School' 'Scuola Dei Bambini' 'St Saviours School Ikoyi'\n",
      " 'Uptown School' 'Indian school bahrain' 'AL SMO' 'GET'\n",
      " 'Icademy Middle East FZ.LLC' 'The Westminster School' 'SETON HOMESCHOOL']\n",
      "\n",
      "\n",
      "gender\n",
      "['Female' 'Male']\n",
      "\n",
      "\n",
      "age\n",
      "['10' '1' '3' '6' '5' '2' '7' '8' '4' '9' 'KG 2' 'FS 2' 'FS 1'\n",
      " 'Working Professional' '11' '14-Oct' '12' '9-May' 'University/College'\n",
      " '15' '13' 'KG 1' '5 9' 'G6' 'G 3' 'G 5' '2-May' 'Grade 2 / year 3'\n",
      " 'Grade 6 / year 7' 'Grade 2/ year 3' 'Grade 1' '3B' '5-Apr'\n",
      " 'Grade 3 Year 4' '3:00 AM' '5 c' 'Yr 8' 'Grade 5' 'Year 8' 'Year 10'\n",
      " 'Year 4' 'Year 1' 'Year 9' 'Year 2' 'Year 7' 'Year 6' 'Year 12' 'Year 5'\n",
      " 'Year 3' 'Year 11' 'KG2']\n",
      "\n",
      "\n",
      "modes_of_learning\n",
      "['Online' 'In-person' 'Hybrid']\n",
      "\n",
      "\n",
      "session\n",
      "[24 96 48  8]\n",
      "\n",
      "\n",
      "field_of_interest\n",
      "['Art' 'Mathematics' 'Music' 'Technology' 'Sports' 'Science']\n",
      "\n",
      "\n",
      "difficulty_level\n",
      "['Applied Tech' 'Beginner' 'Proficiency' 'Intermediate']\n",
      "\n",
      "\n",
      "course_recommended\n",
      "['Robotics Innovative Learning' 'Python' 'Technology Innovative Learning'\n",
      " 'Graphics Designing' 'AI' 'Coding for kids' '3D Designing'\n",
      " 'Game Development' 'App Development']\n",
      "\n",
      "\n",
      "course_rating\n",
      "[5 1 4 3 2]\n",
      "\n",
      "\n"
     ]
    }
   ],
   "source": [
    "### Checking unique values in each column\n",
    "for col in df:\n",
    "    print(col)\n",
    "    print(df[col].unique())\n",
    "    print('\\n')"
   ]
  },
  {
   "cell_type": "code",
   "execution_count": 6,
   "metadata": {},
   "outputs": [],
   "source": [
    "#Converting to lower case\n",
    "\n",
    "df['course_name']=df['course_name'].str.replace('Gulf News - ','')\n",
    "df['course_name']=df['course_name'].str.replace('Bootcamp - ','')\n",
    "#df['course_name']=df['course_name'].str.replace('`- Python/JAVA/HTML/C/C++`','')\n",
    "df['course_name']=df['course_name'].str.replace(' Winter Internship Program','')\n",
    "df['course_name']=df['course_name'].str.replace(' - Microsoft Arcade','')\n",
    "df['course_name']=df['course_name'].str.replace(' - Block-Based','')\n",
    "#df['course_name']=df['course_name'].str.replace(' - Block-Based','')\n",
    "df['course_name']=df['course_name'].str.replace('Robotics/Virtual Robotics/Robotics Programming','Robotics')\n",
    "df['course_name']=df['course_name'].str.split('(').str[0]\n",
    "df['course_name']=df['course_name'].str.split('-').str[0]\n",
    "\n",
    "for i in df.columns:\n",
    "    if df[i].dtype=='object':\n",
    "        df[i]=df[i].map(str.strip)\n",
    "    else:\n",
    "        pass \n",
    "    \n",
    "    replacers = {\n",
    "    'Python Coding': 'Python Programming',\n",
    "    #'Game and App Development': 'Game Development',\n",
    "    #'Graphic Designing & Animation':'Graphic Designing',\n",
    "    'Public Speaking & Entrepreneurship':'Public Speaking ',\n",
    "    #'Artificial Intelligence for Non Programmers':'Artificial Intelligence',\n",
    "    'Space STEM':'Robotics',\n",
    "    #'VEX Robotics':'Virtual Robotics',\n",
    "    #'FIRST LEGO LEAGUE ':'LEGO Robotics',\n",
    "    #'Scratch Coding':'Programming',\n",
    "    #'Game Development with Unity':'Game Development',\n",
    "    #'Young Game Developer':'Game Developement',\n",
    "    'School':'Robotics',\n",
    "    #'Artificial Intelligence & Machine Learning':'Artificial Intelligence and Machine Learning',\n",
    "    #'Virtual Robotics & Mechatronics':'Virtual Robotics',\n",
    "    'Artificial Intelligence Summer Program & Internship':'Artifical Intelligence',\n",
    "    'Programming & Coding ':'Programming',\n",
    "    'FIRST Lego League ':'LEGO Robotics',\n",
    "    #'Game Combat Championship ' :'Game Developement',\n",
    "    'JAVA':'JAVA Programming',\n",
    "    'World Robot Olympiad Webinar':'Robotics',\n",
    "    'STEM Sr':'Robotics',\n",
    "    #'Microsoft Arcade':'Game Developement',\n",
    "    #'Augmented & Virtual Reality' :'Virtual Reality',\n",
    "    #'App Design and Development':'App Development',\n",
    "    'Public Speaking, Design Thinking and Junior Entrepreneur Program for Students':'Young Entrepreneur',\n",
    "    'Mid Term Program':'Artifical Intelligence',\n",
    "    'Winter Camp 2022':'Robotics',\n",
    "    'Summer Camp 2022':'Robotics',\n",
    "    'Winter Camp 2021':'Robotics',\n",
    "    'Coding for kids':'Coding For kids',\n",
    "    'Summer Camps':'Robotics',\n",
    "    'Python':'Python Programming',\n",
    "    'Artifical Intelligence':'Artificial Intelligence',\n",
    "    'Artificial Intelligence Program':'Artificial Intelligence',\n",
    "    'Artificial Intelligence & Machine Learning':'Artificial Intelligence and Machine Learning',\n",
    "    'ALIF Robotics Workshop':'Robotics',\n",
    "    'Tech Summer Camp for Juniors' :'Robotics',\n",
    "    'AI' :'Artificial Intelligence',\n",
    "    #'Drone Technology & Aerodynamics':'Drone Technology',\n",
    "    #'Coding for kids':'Programming',\n",
    "    'Game Dev with SCRATCH':'Game Development',\n",
    "    'Canon Junior Photography':'Photography',\n",
    "    #'Coding For Kids':'Programming',\n",
    "    'VEX Robotics Competition ':'Virtual Robotics',\n",
    "    'VEX IQ Competition ': 'Virtual Robotics',\n",
    "    'FIRST LEGO LEAGUE':'First LEGO League',\n",
    "    'Metaverse':'Virtual Reality',\n",
    "    'STEM Jr':'Robotics',\n",
    "    #'3D Designing':'Graphic Designing',\n",
    "    #'3D Designing and Printing':'Graphic Designing',\n",
    "    'Graphics Designing':'Graphic Designing',\n",
    "    'Spring Camps':'Robotics',\n",
    "    'CIS Stem Junior Year':'Robotics',\n",
    "    'CIS Tech Innovator Year':'Robotics',\n",
    "    'Robotics Regent':'Robotics',\n",
    "    'Game Development Microsoft Arcade':'Microsoft Arcade',\n",
    "    'Game Development Block':'Game Development'\n",
    "    }\n",
    "\n",
    "    df['course_name'] = df['course_name'].replace(replacers)\n",
    "\n",
    "    df = df.loc[~((\n",
    "    (df['course_name']=='Art & Craft for Juniors')|\n",
    "    (df['course_name']=='Technology Onsite ')|\n",
    "    (df['course_name']=='French Language Course')|\n",
    "    (df['course_name']=='Speech and Drama')|\n",
    "    #(df['course_name']=='Young Product Designer')|\n",
    "    (df['course_name']=='Tech Innovator')|\n",
    "    (df['course_name']=='Train the Trainer')|\n",
    "    (df['course_name']=='CIS, Dubai')|\n",
    "    #(df['course_name']=='Young Honcho')|\n",
    "    (df['course_name']=='Half Term Camp 2022')|\n",
    "    (df['course_name']=='Technology Boot Camp')|\n",
    "    (df['course_name']=='World Robot Olympiad ')|\n",
    "    (df['course_name']=='Photography')|\n",
    "    (df['course_name']=='Public Speaking')|\n",
    "    (df['course_name']=='Spring Camp')|\n",
    "    (df['course_name']=='Arduino')))]\n"
   ]
  },
  {
   "cell_type": "code",
   "execution_count": 7,
   "metadata": {},
   "outputs": [
    {
     "data": {
      "text/plain": [
       "student_name          object\n",
       "course_name           object\n",
       "nationality           object\n",
       "school                object\n",
       "gender                object\n",
       "age                   object\n",
       "modes_of_learning     object\n",
       "session                int64\n",
       "field_of_interest     object\n",
       "difficulty_level      object\n",
       "course_recommended    object\n",
       "course_rating          int64\n",
       "dtype: object"
      ]
     },
     "execution_count": 7,
     "metadata": {},
     "output_type": "execute_result"
    }
   ],
   "source": [
    "df.dtypes"
   ]
  },
  {
   "cell_type": "code",
   "execution_count": 8,
   "metadata": {},
   "outputs": [],
   "source": [
    "##preprocess age\n",
    "df = df[(df.age != \"14-Oct\") & (df.age != \"9-May\")]\n",
    "df['age'] = df['age'].replace(['1'], 'Year 1')\n",
    "df['age'] = df['age'].replace(['2'], 'Year 2')\n",
    "df['age'] = df['age'].replace(['3'], 'Year 3')\n",
    "df['age'] = df['age'].replace(['4'], 'Year 4')\n",
    "df['age'] = df['age'].replace(['5'], 'Year 5')\n",
    "df['age'] = df['age'].replace(['6'], 'Year 6')\n",
    "df['age'] = df['age'].replace(['7'], 'Year 7')\n",
    "df['age'] = df['age'].replace(['8'], 'Year 8')\n",
    "df['age'] = df['age'].replace(['9'], 'Year 9')\n",
    "df['age'] = df['age'].replace(['10'], 'Year 10')\n",
    "df['age'] = df['age'].replace(['11'], 'Year 11')\n",
    "df['age'] = df['age'].replace(['12'], 'Year 12')\n",
    "df['age'] = df['age'].replace(['13'], 'Year 13')\n",
    "df['age'] = df['age'].replace(['14'], 'Year 14')\n",
    "df['age'] = df['age'].replace(['15'], 'Year 15')\n",
    "df['age'] = df['age'].replace(['Year 1'], '5')\n",
    "df['age'] = df['age'].replace(['Year 2'], '6')\n",
    "df['age'] = df['age'].replace(['Year 3'], '7')\n",
    "df['age'] = df['age'].replace(['Year 4'], '8')\n",
    "df['age'] = df['age'].replace(['Year 5'], '9')\n",
    "df['age'] = df['age'].replace(['Year 6'], '10')\n",
    "df['age'] = df['age'].replace(['Year 7'], '11')\n",
    "df['age'] = df['age'].replace(['Year 8'], '12')\n",
    "df['age'] = df['age'].replace(['Year 9'], '13')\n",
    "df['age'] = df['age'].replace(['Year 10'], '14')\n",
    "df['age'] = df['age'].replace(['Year 11'], '15')\n",
    "df['age'] = df['age'].replace(['Year 12'], '16')\n",
    "df['age'] = df['age'].replace(['Year 13'], '17')\n",
    "df['age'] = df['age'].replace(['Year 14'], '18')\n",
    "df['age'] = df['age'].replace(['Year 15'], '19')\n",
    "df['age'] = df['age'].replace(['FS 1'], '5')\n",
    "df['age'] = df['age'].replace(['FS 2'], '6')\n",
    "df['age'] = df['age'].replace(['KG 1'], '5')\n",
    "df['age'] = df['age'].replace(['KG 2'], '6')\n",
    "df['age'] = df['age'].replace(['KG2'], '6')\n",
    "df['age'] = df['age'].replace(['University/College'], '16')\n",
    "df['age'] = df['age'].replace(['Working Professional'], '16')\n",
    "\n",
    "df=df.groupby(\"age\").filter(lambda x: len(x) > 5)\n",
    "## Typecasting\n",
    "df['age'] = pd.to_numeric(df['age'])"
   ]
  },
  {
   "cell_type": "code",
   "execution_count": 9,
   "metadata": {},
   "outputs": [],
   "source": [
    "##finding count of values in age\n",
    "#plt.bar(ages_df['age'],ages_df['age_count'], color ='lightblue',width = 1,ec='black')\n",
    "#ages_df=df.sort_values(['age'],ascending=False`).groupby(['age'])['age'].count().reset_index(name='age_count')"
   ]
  },
  {
   "cell_type": "markdown",
   "metadata": {},
   "source": [
    "## Creating new column"
   ]
  },
  {
   "cell_type": "code",
   "execution_count": 10,
   "metadata": {},
   "outputs": [],
   "source": [
    "#df['education'] = np.where(df['age']>= 14, 'College', 'School')\n",
    "\n",
    "col         = 'age'\n",
    "conditions  = [ (df[col] >=5) & (df[col]<10), (df[col] >=10) & (df[col]<14),(df[col] >=14)]\n",
    "choices     = ['Elementary school (5-9)', 'Middle school (10-13)','High school/College (14+)' ]\n",
    "    \n",
    "df[\"education\"] = np.select(conditions, choices, default=np.nan)"
   ]
  },
  {
   "cell_type": "markdown",
   "metadata": {},
   "source": [
    "## Create ID for student"
   ]
  },
  {
   "cell_type": "code",
   "execution_count": 11,
   "metadata": {},
   "outputs": [],
   "source": [
    "#df['student_id']=df.student_name.str.extract('(\\d+)')\n",
    "np.random.seed(100)\n",
    "df['student_id'] = np.random.randint(1,3000, df.shape[0])"
   ]
  },
  {
   "cell_type": "markdown",
   "metadata": {},
   "source": [
    "## Create ID for course"
   ]
  },
  {
   "cell_type": "code",
   "execution_count": 12,
   "metadata": {},
   "outputs": [
    {
     "data": {
      "text/html": [
       "<div>\n",
       "<style scoped>\n",
       "    .dataframe tbody tr th:only-of-type {\n",
       "        vertical-align: middle;\n",
       "    }\n",
       "\n",
       "    .dataframe tbody tr th {\n",
       "        vertical-align: top;\n",
       "    }\n",
       "\n",
       "    .dataframe thead th {\n",
       "        text-align: right;\n",
       "    }\n",
       "</style>\n",
       "<table border=\"1\" class=\"dataframe\">\n",
       "  <thead>\n",
       "    <tr style=\"text-align: right;\">\n",
       "      <th></th>\n",
       "      <th>course_name</th>\n",
       "      <th>course_id</th>\n",
       "    </tr>\n",
       "  </thead>\n",
       "  <tbody>\n",
       "    <tr>\n",
       "      <th>0</th>\n",
       "      <td>Robotics Innovative Learning</td>\n",
       "      <td>0</td>\n",
       "    </tr>\n",
       "    <tr>\n",
       "      <th>1</th>\n",
       "      <td>Robotics</td>\n",
       "      <td>1</td>\n",
       "    </tr>\n",
       "    <tr>\n",
       "      <th>2</th>\n",
       "      <td>Python Programming</td>\n",
       "      <td>2</td>\n",
       "    </tr>\n",
       "    <tr>\n",
       "      <th>3</th>\n",
       "      <td>Artificial Intelligence</td>\n",
       "      <td>3</td>\n",
       "    </tr>\n",
       "    <tr>\n",
       "      <th>4</th>\n",
       "      <td>Technology Innovative Learning</td>\n",
       "      <td>4</td>\n",
       "    </tr>\n",
       "  </tbody>\n",
       "</table>\n",
       "</div>"
      ],
      "text/plain": [
       "                      course_name  course_id\n",
       "0    Robotics Innovative Learning          0\n",
       "1                        Robotics          1\n",
       "2              Python Programming          2\n",
       "3         Artificial Intelligence          3\n",
       "4  Technology Innovative Learning          4"
      ]
     },
     "execution_count": 12,
     "metadata": {},
     "output_type": "execute_result"
    }
   ],
   "source": [
    "course_df=pd.DataFrame(df['course_name'].unique(),columns=[\"course_name\"])\n",
    "index = pd.Index(range(0, len(course_df.index), 1))\n",
    "course_df[\"course_id\"] = course_df.index\n",
    "course_df.head(5)"
   ]
  },
  {
   "cell_type": "code",
   "execution_count": 13,
   "metadata": {},
   "outputs": [],
   "source": [
    "df=df.merge(course_df,on=\"course_name\",how=\"left\")"
   ]
  },
  {
   "cell_type": "code",
   "execution_count": 17,
   "metadata": {},
   "outputs": [],
   "source": [
    "df=df[['student_id','student_name','age','nationality','gender',\n",
    "       'education','school','field_of_interest','course_id',\n",
    "       'course_name','session','course_rating','difficulty_level','modes_of_learning','course_recommended']]"
   ]
  },
  {
   "cell_type": "markdown",
   "metadata": {},
   "source": [
    "## Export CSV"
   ]
  },
  {
   "cell_type": "code",
   "execution_count": 29,
   "metadata": {},
   "outputs": [],
   "source": [
    "df.to_csv(\"processed_data.csv\",index=False)"
   ]
  },
  {
   "cell_type": "markdown",
   "metadata": {},
   "source": [
    "## EDA"
   ]
  },
  {
   "cell_type": "code",
   "execution_count": 19,
   "metadata": {},
   "outputs": [],
   "source": [
    "# for p in ax.patches:\n",
    "#     percentage = '{:.1f}%'.format(100 * p.get_height()/total)\n",
    "#     x = p.get_x() + p.get_width()\n",
    "#     y = p.get_height()\n",
    "#     ax.annotate(percentage, (x, y),ha='center')\n",
    "# plt.show()"
   ]
  },
  {
   "cell_type": "code",
   "execution_count": 20,
   "metadata": {},
   "outputs": [
    {
     "data": {
      "image/png": "[encoded data removed]",
      "text/plain": [
       "<Figure size 640x480 with 1 Axes>"
      ]
     },
     "metadata": {},
     "output_type": "display_data"
    }
   ],
   "source": [
    "plt.hist(df['age'], color='steelblue', ec='black')\n",
    "plt.xlabel(\"Age\")\n",
    "plt.ylabel(\"Count\")\n",
    "plt.title(\"Histogram of Age\")\n",
    "plt.show()"
   ]
  },
  {
   "cell_type": "code",
   "execution_count": 21,
   "metadata": {},
   "outputs": [],
   "source": [
    "# df['course_rating'] = df['course_rating'].astype('category')\n",
    "# plt.bar(df['course_rating'], color='steelblue', ec='black')\n",
    "# plt.xlabel(\"Rating\")\n",
    "# plt.ylabel(\"Count\")\n",
    "# plt.title(\"\")\n",
    "# plt.show()"
   ]
  },
  {
   "cell_type": "code",
   "execution_count": 22,
   "metadata": {},
   "outputs": [],
   "source": [
    "temp=df.groupby(['modes_of_learning'])['modes_of_learning'].count().reset_index(name='no_of_students').sort_values('no_of_students',ascending=False)\n",
    "temp['percentage_of_students'] = temp['no_of_students'] / np.sum(temp['no_of_students']) * 100\n",
    "\n",
    "\n",
    "temp2=df.groupby(['field_of_interest'])['field_of_interest'].count().reset_index(name='no_of_students').sort_values('no_of_students',ascending=False)\n",
    "temp2['percentage_of_students'] = temp2['no_of_students'] / np.sum(temp2['no_of_students']) * 100\n",
    "\n",
    "\n",
    "temp3=df.groupby(['difficulty_level'])['difficulty_level'].count().reset_index(name='no_of_students').sort_values('no_of_students',ascending=False)\n",
    "temp3['percentage_of_students'] = temp3['no_of_students'] / np.sum(temp3['no_of_students']) * 100\n",
    "\n",
    "\n",
    "temp4=df.groupby(['gender'])['gender'].count().reset_index(name='no_of_students').sort_values('no_of_students',ascending=False)\n",
    "temp4['percentage_of_students'] = temp4['no_of_students'] / np.sum(temp4['no_of_students']) * 100\n",
    "\n",
    "\n",
    "temp5=df.groupby(['session'])['session'].count().reset_index(name='no_of_students').sort_values('no_of_students',ascending=False)\n",
    "temp5['percentage_of_students'] = temp5['no_of_students'] / np.sum(temp5['no_of_students']) * 100\n"
   ]
  },
  {
   "cell_type": "code",
   "execution_count": 23,
   "metadata": {},
   "outputs": [
    {
     "data": {
      "text/html": [
       "<div>\n",
       "<style scoped>\n",
       "    .dataframe tbody tr th:only-of-type {\n",
       "        vertical-align: middle;\n",
       "    }\n",
       "\n",
       "    .dataframe tbody tr th {\n",
       "        vertical-align: top;\n",
       "    }\n",
       "\n",
       "    .dataframe thead th {\n",
       "        text-align: right;\n",
       "    }\n",
       "</style>\n",
       "<table border=\"1\" class=\"dataframe\">\n",
       "  <thead>\n",
       "    <tr style=\"text-align: right;\">\n",
       "      <th></th>\n",
       "      <th>modes_of_learning</th>\n",
       "      <th>no_of_students</th>\n",
       "      <th>percentage_of_students</th>\n",
       "    </tr>\n",
       "  </thead>\n",
       "  <tbody>\n",
       "    <tr>\n",
       "      <th>0</th>\n",
       "      <td>Hybrid</td>\n",
       "      <td>2717</td>\n",
       "      <td>33.768332</td>\n",
       "    </tr>\n",
       "    <tr>\n",
       "      <th>2</th>\n",
       "      <td>Online</td>\n",
       "      <td>2668</td>\n",
       "      <td>33.159334</td>\n",
       "    </tr>\n",
       "    <tr>\n",
       "      <th>1</th>\n",
       "      <td>In-person</td>\n",
       "      <td>2661</td>\n",
       "      <td>33.072334</td>\n",
       "    </tr>\n",
       "  </tbody>\n",
       "</table>\n",
       "</div>"
      ],
      "text/plain": [
       "  modes_of_learning  no_of_students  percentage_of_students\n",
       "0            Hybrid            2717               33.768332\n",
       "2            Online            2668               33.159334\n",
       "1         In-person            2661               33.072334"
      ]
     },
     "execution_count": 23,
     "metadata": {},
     "output_type": "execute_result"
    }
   ],
   "source": [
    "temp"
   ]
  },
  {
   "cell_type": "code",
   "execution_count": 24,
   "metadata": {},
   "outputs": [
    {
     "data": {
      "text/plain": [
       "[Text(0.5, 80.7222222222222, 'Age'),\n",
       " Text(1172.3031045751634, 0.5, 'Count'),\n",
       " Text(0.5, 1.0, 'Histogram of Age')]"
      ]
     },
     "execution_count": 24,
     "metadata": {},
     "output_type": "execute_result"
    },
    {
     "data": {
      "image/png": "[encoded data removed]",
      "text/plain": [
       "<Figure size 1800x1000 with 6 Axes>"
      ]
     },
     "metadata": {},
     "output_type": "display_data"
    }
   ],
   "source": [
    "fig, axes = plt.subplots(2, 3, figsize=(18, 10))\n",
    "fig.tight_layout(pad=5.0)\n",
    "fig.suptitle('Exploratory Data Analysis')\n",
    "\n",
    "sns.barplot(ax=axes[0,0], data=temp, x='modes_of_learning', y='no_of_students',ec='black')\n",
    "axes[0,0].set(xlabel=\"Mode of Learning\",ylabel=\"Count\",title=\"Mode of Learning Distribution\")\n",
    "sns.barplot(ax=axes[0,1], data=temp5, x='session', y='no_of_students',ec='black')\n",
    "axes[0,1].set(xlabel=\"Session\",ylabel=\"Count\",title=\"Session Distribution\")\n",
    "sns.barplot(ax=axes[0,2], data=temp2, x='field_of_interest', y='no_of_students',ec='black')\n",
    "axes[0,2].set(xlabel=\"Field of Interest\",ylabel=\"Count\",title=\"Field of Interest Distribution\")\n",
    "sns.barplot(ax=axes[1,0], data=temp3, x='difficulty_level', y='no_of_students',ec='black')\n",
    "axes[1,0].set(xlabel=\"Difficulty Level\",ylabel=\"Count\",title=\"Difficulty Level Distribution\")\n",
    "sns.barplot(ax=axes[1,1], data=temp4, x='gender', y='no_of_students',ec='black')\n",
    "axes[1,1].set(xlabel=\"Gender\",ylabel=\"Count\",title=\"Gender Distribution\")\n",
    "plt.hist(df['age'], color='steelblue', ec='black')\n",
    "axes[1,2].set(xlabel=\"Age\",ylabel=\"Count\",title=\"Histogram of Age\")"
   ]
  },
  {
   "cell_type": "code",
   "execution_count": 25,
   "metadata": {},
   "outputs": [
    {
     "data": {
      "text/html": [
       "<div>\n",
       "<style scoped>\n",
       "    .dataframe tbody tr th:only-of-type {\n",
       "        vertical-align: middle;\n",
       "    }\n",
       "\n",
       "    .dataframe tbody tr th {\n",
       "        vertical-align: top;\n",
       "    }\n",
       "\n",
       "    .dataframe thead th {\n",
       "        text-align: right;\n",
       "    }\n",
       "</style>\n",
       "<table border=\"1\" class=\"dataframe\">\n",
       "  <thead>\n",
       "    <tr style=\"text-align: right;\">\n",
       "      <th></th>\n",
       "      <th>course_name</th>\n",
       "      <th>no_of_courses</th>\n",
       "      <th>course_id</th>\n",
       "    </tr>\n",
       "  </thead>\n",
       "  <tbody>\n",
       "    <tr>\n",
       "      <th>0</th>\n",
       "      <td>Robotics</td>\n",
       "      <td>2231</td>\n",
       "      <td>1</td>\n",
       "    </tr>\n",
       "    <tr>\n",
       "      <th>1</th>\n",
       "      <td>Artificial Intelligence</td>\n",
       "      <td>834</td>\n",
       "      <td>3</td>\n",
       "    </tr>\n",
       "    <tr>\n",
       "      <th>2</th>\n",
       "      <td>Python Programming</td>\n",
       "      <td>405</td>\n",
       "      <td>2</td>\n",
       "    </tr>\n",
       "    <tr>\n",
       "      <th>3</th>\n",
       "      <td>Robotics Innovative Learning</td>\n",
       "      <td>307</td>\n",
       "      <td>0</td>\n",
       "    </tr>\n",
       "    <tr>\n",
       "      <th>4</th>\n",
       "      <td>3D Designing &amp; Modelling</td>\n",
       "      <td>278</td>\n",
       "      <td>17</td>\n",
       "    </tr>\n",
       "  </tbody>\n",
       "</table>\n",
       "</div>"
      ],
      "text/plain": [
       "                    course_name  no_of_courses course_id\n",
       "0                      Robotics           2231         1\n",
       "1       Artificial Intelligence            834         3\n",
       "2            Python Programming            405         2\n",
       "3  Robotics Innovative Learning            307         0\n",
       "4      3D Designing & Modelling            278        17"
      ]
     },
     "execution_count": 25,
     "metadata": {},
     "output_type": "execute_result"
    }
   ],
   "source": [
    "course_count = df.groupby(['course_name'])['course_name'].count().reset_index(name='no_of_courses').sort_values('no_of_courses',ascending=False)\n",
    "course_count=course_count.merge(course_df,on=\"course_name\",how=\"left\")\n",
    "course_count['course_id'] = course_count['course_id'].astype('category')\n",
    "#course_count.reset_index(inplace=True)\n",
    "course_count.head(5)"
   ]
  },
  {
   "cell_type": "code",
   "execution_count": 26,
   "metadata": {},
   "outputs": [
    {
     "data": {
      "text/plain": [
       "4    3231\n",
       "3    2604\n",
       "5    1644\n",
       "2     413\n",
       "1     154\n",
       "Name: course_rating, dtype: int64"
      ]
     },
     "execution_count": 26,
     "metadata": {},
     "output_type": "execute_result"
    }
   ],
   "source": [
    "df.course_rating.value_counts()"
   ]
  },
  {
   "cell_type": "code",
   "execution_count": 27,
   "metadata": {},
   "outputs": [
    {
     "data": {
      "image/png": "[encoded data removed]",
      "text/plain": [
       "<Figure size 640x480 with 1 Axes>"
      ]
     },
     "metadata": {},
     "output_type": "display_data"
    }
   ],
   "source": [
    "df.course_rating.value_counts()[[1,2,3,4,5]].plot(kind='bar',ec='black')\n",
    "\n",
    "plt.title('Rating Distribution\\n')\n",
    "plt.xlabel('Rating')\n",
    "plt.ylabel('Count')\n",
    "plt.xticks(rotation = 360)\n",
    "plt.savefig('system1.png', bbox_inches='tight')\n",
    "plt.show()"
   ]
  },
  {
   "cell_type": "code",
   "execution_count": 28,
   "metadata": {},
   "outputs": [
    {
     "data": {
      "image/png": "[encoded data removed]",
      "text/plain": [
       "<Figure size 700x1000 with 1 Axes>"
      ]
     },
     "metadata": {},
     "output_type": "display_data"
    }
   ],
   "source": [
    "fig = plt.figure(figsize = (7, 10))\n",
    " \n",
    "#creating the bar plot\n",
    "#plt.barh(course_count['course_name'],course_count['no_of_courses'], color ='blue',width = 1)\n",
    "plt.bar(course_count['course_id'],course_count['no_of_courses'])\n",
    "\n",
    "plt.xlabel(\"Courses offered\")\n",
    "plt.ylabel(\"No. of students enrolled\")\n",
    "plt.title(\"Students enrolled in different courses\")\n",
    "plt.show()"
   ]
  }
 ],
 "metadata": {
  "kernelspec": {
   "display_name": "Python 3 (ipykernel)",
   "language": "python",
   "name": "python3"
  },
  "language_info": {
   "codemirror_mode": {
    "name": "ipython",
    "version": 3
   },
   "file_extension": ".py",
   "mimetype": "text/x-python",
   "name": "python",
   "nbconvert_exporter": "python",
   "pygments_lexer": "ipython3",
   "version": "3.10.9"
  }
 },
 "nbformat": 4,
 "nbformat_minor": 4
}
